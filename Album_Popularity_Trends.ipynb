{
  "nbformat": 4,
  "nbformat_minor": 0,
  "metadata": {
    "colab": {
      "name": "Album Popularity Trends",
      "provenance": [],
      "toc_visible": true,
      "mount_file_id": "1CER8QueqynaAaAz5K16UAGeeVQpusQlf",
      "authorship_tag": "ABX9TyNQq4emWeHtWWYy5UbGrqpQ",
      "include_colab_link": true
    },
    "kernelspec": {
      "name": "python3",
      "display_name": "Python 3"
    },
    "language_info": {
      "name": "python"
    }
  },
  "cells": [
    {
      "cell_type": "markdown",
      "metadata": {
        "id": "view-in-github",
        "colab_type": "text"
      },
      "source": [
        "<a href=\"https://colab.research.google.com/github/aidanrogers02/aidanrogers02-Album-Popularity-Trends/blob/main/Album_Popularity_Trends.ipynb\" target=\"_parent\"><img src=\"https://colab.research.google.com/assets/colab-badge.svg\" alt=\"Open In Colab\"/></a>"
      ]
    },
    {
      "cell_type": "markdown",
      "source": [
        "# Album Popularity Trends/Mariah Carey’s Album Popularity"
      ],
      "metadata": {
        "id": "-fYvQ-ONEZIV"
      }
    },
    {
      "cell_type": "markdown",
      "source": [
        "**From the Spotify API Documentation**\n",
        "<br/>\n",
        "Their definition of popularity:\n",
        "<br/> \n",
        "\"The popularity of the track. The value will be between 0 and 100, with 100 being the most popular.\n",
        "The popularity of a track is a value between 0 and 100, with 100 being the most popular. The popularity is calculated by algorithm and is based, in the most part, on the total number of plays the track has had and how recent those plays are.\"\n",
        "<br/>\n",
        "\"Artist and album popularity is derived mathematically from track popularity.\""
      ],
      "metadata": {
        "id": "Qz7vYeos4RCc"
      }
    },
    {
      "cell_type": "markdown",
      "source": [
        "Retrieve Access Token to Make Call to Spotify API"
      ],
      "metadata": {
        "id": "pnAXheATsupL"
      }
    },
    {
      "cell_type": "code",
      "source": [
        "#@title Retrieve Access Token to Make Call to Spotify API\n",
        "\"\"\"An access token is needed to retrieve info from the Spotify API so we are \n",
        "getting one\"\"\"\n",
        "import requests\n",
        "\n",
        "\n",
        "def get_spotify_access_token(filename):\n",
        "  \"\"\"Open and read file to get codes Spotify API wants. Return access token\"\"\"\n",
        "\n",
        "  try:\n",
        "    with open(filename) as f:\n",
        "      client_id = f.readline()\n",
        "      client_secret = f.readline()\n",
        "  except FileNotFoundError:\n",
        "    print(\"File does not exist.\")\n",
        "\n",
        "  # Strip white space at the ends\n",
        "  client_id = client_id.strip()\n",
        "  client_secret = client_secret.strip()\n",
        "\n",
        "  # Make post reqeust to Spotify to get access token\n",
        "  response = requests.post(\n",
        "    url=\"https://accounts.spotify.com/api/token\",\n",
        "    data={\"grant_type\": \"client_credentials\"},\n",
        "    auth=(client_id, client_secret),\n",
        "  )\n",
        "\n",
        "  # We have the access token\n",
        "  access_token = response.json()[\"access_token\"]\n",
        "  return access_token\n",
        "\n",
        "filename = 'drive/MyDrive/codes/client_codes.txt'\n",
        "\n",
        "access_token = get_spotify_access_token(filename)"
      ],
      "metadata": {
        "id": "CcEHcUZNgLZN",
        "cellView": "code"
      },
      "execution_count": null,
      "outputs": []
    },
    {
      "cell_type": "markdown",
      "source": [
        "Input Which Artist You Want"
      ],
      "metadata": {
        "id": "UrR0SSEYPuG2"
      }
    },
    {
      "cell_type": "code",
      "source": [
        "#@title Input Which Artist You Want\n",
        "def make_artist_string():\n",
        "  print(\"Input an artist's name.\")\n",
        "  inp = input(\"Artist Name: \")\n",
        "\n",
        "  inp = inp.rstrip()\n",
        "  inp = inp.replace(' ', '%20')\n",
        "  inp = inp.replace(',', '%2C')\n",
        "\n",
        "  return inp\n",
        "\n",
        "def make_artist_url(inp):\n",
        "  url_start = 'https://api.spotify.com/v1/search?q=artist%3A'\n",
        "  url_end = '&type=artist&limit=1&offset=0'\n",
        "  url_whole = ''\n",
        "\n",
        "  url_whole = (url_start + inp + url_end)\n",
        "\n",
        "  return url_whole\n",
        "\n",
        "def retrieve_artist_info(artist_url):\n",
        "  headers = {\"Authorization\": f\"Bearer {access_token}\"}\n",
        "  artist_response = requests.get(artist_url, headers=headers)\n",
        "\n",
        "  artist_response_dict = artist_response.json()\n",
        "\n",
        "  return artist_response_dict\n",
        "\n",
        "def get_artist_info(single_artist_dict):\n",
        "  artist_info = {}\n",
        "  for artist in single_artist_dict:\n",
        "    artist_info['name'] = artist['name']\n",
        "    temp_uri = artist['uri']\n",
        "    artist_info['uri'] = temp_uri[15:]\n",
        "    artist_info['popularity'] = artist['popularity']\n",
        "    artist_info['genres'] = artist['genres']\n",
        "    artist_info['followers'] = artist['followers']['total']\n",
        "\n",
        "  return artist_info\n",
        "\n",
        "inp = make_artist_string()\n",
        "artist_url = make_artist_url(inp)\n",
        "artist_response_dict = retrieve_artist_info(artist_url)\n",
        "\n",
        "single_artist_dict = artist_response_dict['artists']['items']\n",
        "\n",
        "artist_info = get_artist_info(single_artist_dict)\n",
        "\n",
        "print(f\"Artist Found: {artist_info['name']}\")"
      ],
      "metadata": {
        "colab": {
          "base_uri": "https://localhost:8080/"
        },
        "cellView": "code",
        "id": "Z8dTO-ol_2f9",
        "outputId": "e4ea577b-8412-4059-ac09-ddc82e52bcc1"
      },
      "execution_count": null,
      "outputs": [
        {
          "output_type": "stream",
          "name": "stdout",
          "text": [
            "Input an artist's name.\n",
            "Artist Name: mariah\n",
            "Artist found: Mariah Carey\n"
          ]
        }
      ]
    },
    {
      "cell_type": "markdown",
      "source": [
        "Get Artist's Albums"
      ],
      "metadata": {
        "id": "gyNvqSPdEoiP"
      }
    },
    {
      "cell_type": "code",
      "source": [
        "#@title Get Artist's Albums: code to allow the \"Get Several Albums\" to work\n",
        "\"\"\"Get every album from the artist and with them create a url that\n",
        "can be used to get specific info on all of these albums\"\"\"\n",
        "import requests \n",
        "\n",
        "# List of albums/album info that we do not want graphed\n",
        "restricted_albums = [\n",
        "    \"Me. I Am Mariah…The Elusive Chanteuse (Deluxe)\",\n",
        "    \"The Emancipation Of Mimi (Ultra Platinum Edition)\",\n",
        "    \"spotify:album:6GhWU8SIWavH4IQAoeJazI\",\n",
        "    \"Me. I Am Mariah... The Elusive Chanteuse\"\n",
        "]\n",
        "\n",
        "\n",
        "def get_album_uris(album_list_dict, restricted_albums):\n",
        "  \n",
        "  uris = \"\"\n",
        "  # Loop to get and check album info. Create a URL with all of the album uris\n",
        "  for position, album_list_dict in enumerate(albums_list_dict):\n",
        "    album_name = album_list_dict['name']\n",
        "    album_release = album_list_dict['release_date']\n",
        "    uri = album_list_dict['uri']\n",
        "    if album_name in restricted_albums or uri in restricted_albums:\n",
        "      continue\n",
        "    print(album_name)\n",
        "    \n",
        "\n",
        "    # Remove unnecessary prefix\n",
        "    uri = uri[14:]\n",
        "    # Add the uri plus the seperator\n",
        "    uris += uri + \"%2C\"\n",
        "\n",
        "    # Spotify API does not like more than 19 albums requested at once\n",
        "    if position == 19:\n",
        "      break\n",
        "\n",
        "  uris = uris[:-3]\n",
        "  # uris = (uris + \"&market=ES\")\n",
        "  uris = (\"https://api.spotify.com/v1/albums?ids=\" + uris)\n",
        "  return uris\n",
        "\n",
        "# URL & headers needed for GET request\n",
        "url_get_artist_albums = (\"https://api.spotify.com/v1/artists/\" + artist_info['uri'] + \"/albums?include_groups=album&market=ES&limit=50&offset=0\")\n",
        "headers = {\"Authorization\": f\"Bearer {access_token}\"}\n",
        "\n",
        "# Get the list of albums from Spotify\n",
        "albums_response = requests.get(url_get_artist_albums, headers=headers)\n",
        "# Format list as a dictionary\n",
        "albums_response_dict = albums_response.json()\n",
        "\n",
        "# Print the status code, 200 means it worked. And print the diotionary\n",
        "print(albums_response.status_code)\n",
        "print(albums_response_dict)\n",
        "\n",
        "# This gives all the albums\n",
        "albums_list_dict = albums_response_dict['items']\n",
        "\n",
        "\n",
        "uris = get_album_uris(albums_list_dict, restricted_albums)\n",
        "print(uris)\n",
        "\n"
      ],
      "metadata": {
        "colab": {
          "base_uri": "https://localhost:8080/"
        },
        "cellView": "code",
        "id": "MXXqF_YRr7Xf",
        "outputId": "c2a7618d-e3e5-49a7-e8e0-77fe818e20f6"
      },
      "execution_count": null,
      "outputs": [
        {
          "output_type": "stream",
          "name": "stdout",
          "text": [
            "200\n",
            "{'href': 'https://api.spotify.com/v1/artists/4iHNK0tOyZPYnBU7nGAgpQ/albums?offset=0&limit=50&include_groups=album&market=ES', 'items': [{'album_group': 'album', 'album_type': 'album', 'artists': [{'external_urls': {'spotify': 'https://open.spotify.com/artist/4iHNK0tOyZPYnBU7nGAgpQ'}, 'href': 'https://api.spotify.com/v1/artists/4iHNK0tOyZPYnBU7nGAgpQ', 'id': '4iHNK0tOyZPYnBU7nGAgpQ', 'name': 'Mariah Carey', 'type': 'artist', 'uri': 'spotify:artist:4iHNK0tOyZPYnBU7nGAgpQ'}], 'external_urls': {'spotify': 'https://open.spotify.com/album/5VfesyhwiNgpEEPXlO5c84'}, 'href': 'https://api.spotify.com/v1/albums/5VfesyhwiNgpEEPXlO5c84', 'id': '5VfesyhwiNgpEEPXlO5c84', 'images': [{'height': 640, 'url': 'https://i.scdn.co/image/ab67616d0000b27377267b60c905c5704fcb3c44', 'width': 640}, {'height': 300, 'url': 'https://i.scdn.co/image/ab67616d00001e0277267b60c905c5704fcb3c44', 'width': 300}, {'height': 64, 'url': 'https://i.scdn.co/image/ab67616d0000485177267b60c905c5704fcb3c44', 'width': 64}], 'name': \"Mariah Carey's Magical Christmas Special (Apple TV+ Original Soundtrack)\", 'release_date': '2020-12-11', 'release_date_precision': 'day', 'total_tracks': 17, 'type': 'album', 'uri': 'spotify:album:5VfesyhwiNgpEEPXlO5c84'}, {'album_group': 'album', 'album_type': 'album', 'artists': [{'external_urls': {'spotify': 'https://open.spotify.com/artist/4iHNK0tOyZPYnBU7nGAgpQ'}, 'href': 'https://api.spotify.com/v1/artists/4iHNK0tOyZPYnBU7nGAgpQ', 'id': '4iHNK0tOyZPYnBU7nGAgpQ', 'name': 'Mariah Carey', 'type': 'artist', 'uri': 'spotify:artist:4iHNK0tOyZPYnBU7nGAgpQ'}], 'external_urls': {'spotify': 'https://open.spotify.com/album/0v1DRRYBXYg1uVN1CIsyy0'}, 'href': 'https://api.spotify.com/v1/albums/0v1DRRYBXYg1uVN1CIsyy0', 'id': '0v1DRRYBXYg1uVN1CIsyy0', 'images': [{'height': 640, 'url': 'https://i.scdn.co/image/ab67616d0000b2732711c9ecee889a8f4f8392b5', 'width': 640}, {'height': 300, 'url': 'https://i.scdn.co/image/ab67616d00001e022711c9ecee889a8f4f8392b5', 'width': 300}, {'height': 64, 'url': 'https://i.scdn.co/image/ab67616d000048512711c9ecee889a8f4f8392b5', 'width': 64}], 'name': 'The Rarities', 'release_date': '2020-10-02', 'release_date_precision': 'day', 'total_tracks': 32, 'type': 'album', 'uri': 'spotify:album:0v1DRRYBXYg1uVN1CIsyy0'}, {'album_group': 'album', 'album_type': 'album', 'artists': [{'external_urls': {'spotify': 'https://open.spotify.com/artist/4iHNK0tOyZPYnBU7nGAgpQ'}, 'href': 'https://api.spotify.com/v1/artists/4iHNK0tOyZPYnBU7nGAgpQ', 'id': '4iHNK0tOyZPYnBU7nGAgpQ', 'name': 'Mariah Carey', 'type': 'artist', 'uri': 'spotify:artist:4iHNK0tOyZPYnBU7nGAgpQ'}], 'external_urls': {'spotify': 'https://open.spotify.com/album/0cS9prZ8u3fdbc7lmtCaMV'}, 'href': 'https://api.spotify.com/v1/albums/0cS9prZ8u3fdbc7lmtCaMV', 'id': '0cS9prZ8u3fdbc7lmtCaMV', 'images': [{'height': 640, 'url': 'https://i.scdn.co/image/ab67616d0000b27301c44a2d3c4ae7a6682df677', 'width': 640}, {'height': 300, 'url': 'https://i.scdn.co/image/ab67616d00001e0201c44a2d3c4ae7a6682df677', 'width': 300}, {'height': 64, 'url': 'https://i.scdn.co/image/ab67616d0000485101c44a2d3c4ae7a6682df677', 'width': 64}], 'name': 'Merry Christmas (Deluxe Anniversary Edition)', 'release_date': '2019-11-01', 'release_date_precision': 'day', 'total_tracks': 29, 'type': 'album', 'uri': 'spotify:album:0cS9prZ8u3fdbc7lmtCaMV'}, {'album_group': 'album', 'album_type': 'album', 'artists': [{'external_urls': {'spotify': 'https://open.spotify.com/artist/4iHNK0tOyZPYnBU7nGAgpQ'}, 'href': 'https://api.spotify.com/v1/artists/4iHNK0tOyZPYnBU7nGAgpQ', 'id': '4iHNK0tOyZPYnBU7nGAgpQ', 'name': 'Mariah Carey', 'type': 'artist', 'uri': 'spotify:artist:4iHNK0tOyZPYnBU7nGAgpQ'}], 'external_urls': {'spotify': 'https://open.spotify.com/album/6GhWU8SIWavH4IQAoeJazI'}, 'href': 'https://api.spotify.com/v1/albums/6GhWU8SIWavH4IQAoeJazI', 'id': '6GhWU8SIWavH4IQAoeJazI', 'images': [{'height': 640, 'url': 'https://i.scdn.co/image/ab67616d0000b27325fc30d368f9d11d27faa43e', 'width': 640}, {'height': 300, 'url': 'https://i.scdn.co/image/ab67616d00001e0225fc30d368f9d11d27faa43e', 'width': 300}, {'height': 64, 'url': 'https://i.scdn.co/image/ab67616d0000485125fc30d368f9d11d27faa43e', 'width': 64}], 'name': 'Caution', 'release_date': '2018-11-17', 'release_date_precision': 'day', 'total_tracks': 11, 'type': 'album', 'uri': 'spotify:album:6GhWU8SIWavH4IQAoeJazI'}, {'album_group': 'album', 'album_type': 'album', 'artists': [{'external_urls': {'spotify': 'https://open.spotify.com/artist/4iHNK0tOyZPYnBU7nGAgpQ'}, 'href': 'https://api.spotify.com/v1/artists/4iHNK0tOyZPYnBU7nGAgpQ', 'id': '4iHNK0tOyZPYnBU7nGAgpQ', 'name': 'Mariah Carey', 'type': 'artist', 'uri': 'spotify:artist:4iHNK0tOyZPYnBU7nGAgpQ'}], 'external_urls': {'spotify': 'https://open.spotify.com/album/64zK6tmksJw9gNZR0L4DVx'}, 'href': 'https://api.spotify.com/v1/albums/64zK6tmksJw9gNZR0L4DVx', 'id': '64zK6tmksJw9gNZR0L4DVx', 'images': [{'height': 640, 'url': 'https://i.scdn.co/image/ab67616d0000b273a789783eeb5d95acaaa6cfdb', 'width': 640}, {'height': 300, 'url': 'https://i.scdn.co/image/ab67616d00001e02a789783eeb5d95acaaa6cfdb', 'width': 300}, {'height': 64, 'url': 'https://i.scdn.co/image/ab67616d00004851a789783eeb5d95acaaa6cfdb', 'width': 64}], 'name': 'Caution', 'release_date': '2018-11-16', 'release_date_precision': 'day', 'total_tracks': 10, 'type': 'album', 'uri': 'spotify:album:64zK6tmksJw9gNZR0L4DVx'}, {'album_group': 'album', 'album_type': 'album', 'artists': [{'external_urls': {'spotify': 'https://open.spotify.com/artist/4iHNK0tOyZPYnBU7nGAgpQ'}, 'href': 'https://api.spotify.com/v1/artists/4iHNK0tOyZPYnBU7nGAgpQ', 'id': '4iHNK0tOyZPYnBU7nGAgpQ', 'name': 'Mariah Carey', 'type': 'artist', 'uri': 'spotify:artist:4iHNK0tOyZPYnBU7nGAgpQ'}], 'external_urls': {'spotify': 'https://open.spotify.com/album/47voGlgRLcSe9VVO4K4IQa'}, 'href': 'https://api.spotify.com/v1/albums/47voGlgRLcSe9VVO4K4IQa', 'id': '47voGlgRLcSe9VVO4K4IQa', 'images': [{'height': 640, 'url': 'https://i.scdn.co/image/ab67616d0000b273cabd651128394ddc698b02fc', 'width': 640}, {'height': 300, 'url': 'https://i.scdn.co/image/ab67616d00001e02cabd651128394ddc698b02fc', 'width': 300}, {'height': 64, 'url': 'https://i.scdn.co/image/ab67616d00004851cabd651128394ddc698b02fc', 'width': 64}], 'name': 'Me. I Am Mariah…The Elusive Chanteuse (Deluxe)', 'release_date': '2014-05-23', 'release_date_precision': 'day', 'total_tracks': 18, 'type': 'album', 'uri': 'spotify:album:47voGlgRLcSe9VVO4K4IQa'}, {'album_group': 'album', 'album_type': 'album', 'artists': [{'external_urls': {'spotify': 'https://open.spotify.com/artist/4iHNK0tOyZPYnBU7nGAgpQ'}, 'href': 'https://api.spotify.com/v1/artists/4iHNK0tOyZPYnBU7nGAgpQ', 'id': '4iHNK0tOyZPYnBU7nGAgpQ', 'name': 'Mariah Carey', 'type': 'artist', 'uri': 'spotify:artist:4iHNK0tOyZPYnBU7nGAgpQ'}], 'external_urls': {'spotify': 'https://open.spotify.com/album/6hGRm1piHNE0Xp7I5Guesy'}, 'href': 'https://api.spotify.com/v1/albums/6hGRm1piHNE0Xp7I5Guesy', 'id': '6hGRm1piHNE0Xp7I5Guesy', 'images': [{'height': 640, 'url': 'https://i.scdn.co/image/ab67616d0000b2737fb8d2970f38ee4a14020e87', 'width': 640}, {'height': 300, 'url': 'https://i.scdn.co/image/ab67616d00001e027fb8d2970f38ee4a14020e87', 'width': 300}, {'height': 64, 'url': 'https://i.scdn.co/image/ab67616d000048517fb8d2970f38ee4a14020e87', 'width': 64}], 'name': 'Me. I Am Mariah…The Elusive Chanteuse', 'release_date': '2014-05-23', 'release_date_precision': 'day', 'total_tracks': 15, 'type': 'album', 'uri': 'spotify:album:6hGRm1piHNE0Xp7I5Guesy'}, {'album_group': 'album', 'album_type': 'album', 'artists': [{'external_urls': {'spotify': 'https://open.spotify.com/artist/4iHNK0tOyZPYnBU7nGAgpQ'}, 'href': 'https://api.spotify.com/v1/artists/4iHNK0tOyZPYnBU7nGAgpQ', 'id': '4iHNK0tOyZPYnBU7nGAgpQ', 'name': 'Mariah Carey', 'type': 'artist', 'uri': 'spotify:artist:4iHNK0tOyZPYnBU7nGAgpQ'}], 'external_urls': {'spotify': 'https://open.spotify.com/album/48yy6t04BJDsGQxxgNZ8to'}, 'href': 'https://api.spotify.com/v1/albums/48yy6t04BJDsGQxxgNZ8to', 'id': '48yy6t04BJDsGQxxgNZ8to', 'images': [{'height': 640, 'url': 'https://i.scdn.co/image/ab67616d0000b273cf6d3bf42f59b719673433d9', 'width': 640}, {'height': 300, 'url': 'https://i.scdn.co/image/ab67616d00001e02cf6d3bf42f59b719673433d9', 'width': 300}, {'height': 64, 'url': 'https://i.scdn.co/image/ab67616d00004851cf6d3bf42f59b719673433d9', 'width': 64}], 'name': 'Me. I Am Mariah…The Elusive Chanteuse (Deluxe)', 'release_date': '2014-05-23', 'release_date_precision': 'day', 'total_tracks': 18, 'type': 'album', 'uri': 'spotify:album:48yy6t04BJDsGQxxgNZ8to'}, {'album_group': 'album', 'album_type': 'album', 'artists': [{'external_urls': {'spotify': 'https://open.spotify.com/artist/4iHNK0tOyZPYnBU7nGAgpQ'}, 'href': 'https://api.spotify.com/v1/artists/4iHNK0tOyZPYnBU7nGAgpQ', 'id': '4iHNK0tOyZPYnBU7nGAgpQ', 'name': 'Mariah Carey', 'type': 'artist', 'uri': 'spotify:artist:4iHNK0tOyZPYnBU7nGAgpQ'}], 'external_urls': {'spotify': 'https://open.spotify.com/album/2YQMF6Mc6YufySJdb0uIw8'}, 'href': 'https://api.spotify.com/v1/albums/2YQMF6Mc6YufySJdb0uIw8', 'id': '2YQMF6Mc6YufySJdb0uIw8', 'images': [{'height': 640, 'url': 'https://i.scdn.co/image/ab67616d0000b273fcfceb8eb843c6732b724d40', 'width': 640}, {'height': 300, 'url': 'https://i.scdn.co/image/ab67616d00001e02fcfceb8eb843c6732b724d40', 'width': 300}, {'height': 64, 'url': 'https://i.scdn.co/image/ab67616d00004851fcfceb8eb843c6732b724d40', 'width': 64}], 'name': 'Me. I Am Mariah... The Elusive Chanteuse', 'release_date': '2014-05-23', 'release_date_precision': 'day', 'total_tracks': 15, 'type': 'album', 'uri': 'spotify:album:2YQMF6Mc6YufySJdb0uIw8'}, {'album_group': 'album', 'album_type': 'album', 'artists': [{'external_urls': {'spotify': 'https://open.spotify.com/artist/4iHNK0tOyZPYnBU7nGAgpQ'}, 'href': 'https://api.spotify.com/v1/artists/4iHNK0tOyZPYnBU7nGAgpQ', 'id': '4iHNK0tOyZPYnBU7nGAgpQ', 'name': 'Mariah Carey', 'type': 'artist', 'uri': 'spotify:artist:4iHNK0tOyZPYnBU7nGAgpQ'}], 'external_urls': {'spotify': 'https://open.spotify.com/album/4q88opkbXkvvL0iIvbs0pv'}, 'href': 'https://api.spotify.com/v1/albums/4q88opkbXkvvL0iIvbs0pv', 'id': '4q88opkbXkvvL0iIvbs0pv', 'images': [{'height': 640, 'url': 'https://i.scdn.co/image/ab67616d0000b273bfd9c30ddcfa6e55eb433043', 'width': 640}, {'height': 300, 'url': 'https://i.scdn.co/image/ab67616d00001e02bfd9c30ddcfa6e55eb433043', 'width': 300}, {'height': 64, 'url': 'https://i.scdn.co/image/ab67616d00004851bfd9c30ddcfa6e55eb433043', 'width': 64}], 'name': 'Merry Christmas II You', 'release_date': '2010-11-02', 'release_date_precision': 'day', 'total_tracks': 14, 'type': 'album', 'uri': 'spotify:album:4q88opkbXkvvL0iIvbs0pv'}, {'album_group': 'album', 'album_type': 'album', 'artists': [{'external_urls': {'spotify': 'https://open.spotify.com/artist/4iHNK0tOyZPYnBU7nGAgpQ'}, 'href': 'https://api.spotify.com/v1/artists/4iHNK0tOyZPYnBU7nGAgpQ', 'id': '4iHNK0tOyZPYnBU7nGAgpQ', 'name': 'Mariah Carey', 'type': 'artist', 'uri': 'spotify:artist:4iHNK0tOyZPYnBU7nGAgpQ'}], 'external_urls': {'spotify': 'https://open.spotify.com/album/0an7K6LfvYERpVviYMUFp0'}, 'href': 'https://api.spotify.com/v1/albums/0an7K6LfvYERpVviYMUFp0', 'id': '0an7K6LfvYERpVviYMUFp0', 'images': [{'height': 640, 'url': 'https://i.scdn.co/image/ab67616d0000b2736ff3f8fd7540eb7447dae564', 'width': 640}, {'height': 300, 'url': 'https://i.scdn.co/image/ab67616d00001e026ff3f8fd7540eb7447dae564', 'width': 300}, {'height': 64, 'url': 'https://i.scdn.co/image/ab67616d000048516ff3f8fd7540eb7447dae564', 'width': 64}], 'name': 'Memoirs of an imperfect Angel (International Version)', 'release_date': '2009-09-29', 'release_date_precision': 'day', 'total_tracks': 21, 'type': 'album', 'uri': 'spotify:album:0an7K6LfvYERpVviYMUFp0'}, {'album_group': 'album', 'album_type': 'album', 'artists': [{'external_urls': {'spotify': 'https://open.spotify.com/artist/4iHNK0tOyZPYnBU7nGAgpQ'}, 'href': 'https://api.spotify.com/v1/artists/4iHNK0tOyZPYnBU7nGAgpQ', 'id': '4iHNK0tOyZPYnBU7nGAgpQ', 'name': 'Mariah Carey', 'type': 'artist', 'uri': 'spotify:artist:4iHNK0tOyZPYnBU7nGAgpQ'}], 'external_urls': {'spotify': 'https://open.spotify.com/album/31MluXLYC0ZnCSfUZ5T4GX'}, 'href': 'https://api.spotify.com/v1/albums/31MluXLYC0ZnCSfUZ5T4GX', 'id': '31MluXLYC0ZnCSfUZ5T4GX', 'images': [{'height': 640, 'url': 'https://i.scdn.co/image/ab67616d0000b273633bb0a5f75b91c45c3a6b37', 'width': 640}, {'height': 300, 'url': 'https://i.scdn.co/image/ab67616d00001e02633bb0a5f75b91c45c3a6b37', 'width': 300}, {'height': 64, 'url': 'https://i.scdn.co/image/ab67616d00004851633bb0a5f75b91c45c3a6b37', 'width': 64}], 'name': 'E=MC2', 'release_date': '2008-04-15', 'release_date_precision': 'day', 'total_tracks': 16, 'type': 'album', 'uri': 'spotify:album:31MluXLYC0ZnCSfUZ5T4GX'}, {'album_group': 'album', 'album_type': 'album', 'artists': [{'external_urls': {'spotify': 'https://open.spotify.com/artist/4iHNK0tOyZPYnBU7nGAgpQ'}, 'href': 'https://api.spotify.com/v1/artists/4iHNK0tOyZPYnBU7nGAgpQ', 'id': '4iHNK0tOyZPYnBU7nGAgpQ', 'name': 'Mariah Carey', 'type': 'artist', 'uri': 'spotify:artist:4iHNK0tOyZPYnBU7nGAgpQ'}], 'external_urls': {'spotify': 'https://open.spotify.com/album/7MMpjM0wynysTbhpvKjHrm'}, 'href': 'https://api.spotify.com/v1/albums/7MMpjM0wynysTbhpvKjHrm', 'id': '7MMpjM0wynysTbhpvKjHrm', 'images': [{'height': 640, 'url': 'https://i.scdn.co/image/ab67616d0000b273b20b50bd34fe4dbc754c85dc', 'width': 640}, {'height': 300, 'url': 'https://i.scdn.co/image/ab67616d00001e02b20b50bd34fe4dbc754c85dc', 'width': 300}, {'height': 64, 'url': 'https://i.scdn.co/image/ab67616d00004851b20b50bd34fe4dbc754c85dc', 'width': 64}], 'name': 'The Emancipation Of Mimi (Ultra Platinum Edition)', 'release_date': '2005-04-12', 'release_date_precision': 'day', 'total_tracks': 20, 'type': 'album', 'uri': 'spotify:album:7MMpjM0wynysTbhpvKjHrm'}, {'album_group': 'album', 'album_type': 'album', 'artists': [{'external_urls': {'spotify': 'https://open.spotify.com/artist/4iHNK0tOyZPYnBU7nGAgpQ'}, 'href': 'https://api.spotify.com/v1/artists/4iHNK0tOyZPYnBU7nGAgpQ', 'id': '4iHNK0tOyZPYnBU7nGAgpQ', 'name': 'Mariah Carey', 'type': 'artist', 'uri': 'spotify:artist:4iHNK0tOyZPYnBU7nGAgpQ'}], 'external_urls': {'spotify': 'https://open.spotify.com/album/6ek7Y68IlB6CoFkkc2gEQb'}, 'href': 'https://api.spotify.com/v1/albums/6ek7Y68IlB6CoFkkc2gEQb', 'id': '6ek7Y68IlB6CoFkkc2gEQb', 'images': [{'height': 640, 'url': 'https://i.scdn.co/image/ab67616d0000b273006adc0cc250c8f9c5494aec', 'width': 640}, {'height': 300, 'url': 'https://i.scdn.co/image/ab67616d00001e02006adc0cc250c8f9c5494aec', 'width': 300}, {'height': 64, 'url': 'https://i.scdn.co/image/ab67616d00004851006adc0cc250c8f9c5494aec', 'width': 64}], 'name': 'The Emancipation of Mimi', 'release_date': '2005', 'release_date_precision': 'year', 'total_tracks': 14, 'type': 'album', 'uri': 'spotify:album:6ek7Y68IlB6CoFkkc2gEQb'}, {'album_group': 'album', 'album_type': 'album', 'artists': [{'external_urls': {'spotify': 'https://open.spotify.com/artist/4iHNK0tOyZPYnBU7nGAgpQ'}, 'href': 'https://api.spotify.com/v1/artists/4iHNK0tOyZPYnBU7nGAgpQ', 'id': '4iHNK0tOyZPYnBU7nGAgpQ', 'name': 'Mariah Carey', 'type': 'artist', 'uri': 'spotify:artist:4iHNK0tOyZPYnBU7nGAgpQ'}], 'external_urls': {'spotify': 'https://open.spotify.com/album/2UYie72CXeuwIB7YepDidw'}, 'href': 'https://api.spotify.com/v1/albums/2UYie72CXeuwIB7YepDidw', 'id': '2UYie72CXeuwIB7YepDidw', 'images': [{'height': 640, 'url': 'https://i.scdn.co/image/ab67616d0000b2736a05a10cce01a91fd7179b3e', 'width': 640}, {'height': 300, 'url': 'https://i.scdn.co/image/ab67616d00001e026a05a10cce01a91fd7179b3e', 'width': 300}, {'height': 64, 'url': 'https://i.scdn.co/image/ab67616d000048516a05a10cce01a91fd7179b3e', 'width': 64}], 'name': 'Charmbracelet', 'release_date': '2002-12-02', 'release_date_precision': 'day', 'total_tracks': 15, 'type': 'album', 'uri': 'spotify:album:2UYie72CXeuwIB7YepDidw'}, {'album_group': 'album', 'album_type': 'album', 'artists': [{'external_urls': {'spotify': 'https://open.spotify.com/artist/4iHNK0tOyZPYnBU7nGAgpQ'}, 'href': 'https://api.spotify.com/v1/artists/4iHNK0tOyZPYnBU7nGAgpQ', 'id': '4iHNK0tOyZPYnBU7nGAgpQ', 'name': 'Mariah Carey', 'type': 'artist', 'uri': 'spotify:artist:4iHNK0tOyZPYnBU7nGAgpQ'}], 'external_urls': {'spotify': 'https://open.spotify.com/album/2hHFZLYnwsYOOxTCrlNvg0'}, 'href': 'https://api.spotify.com/v1/albums/2hHFZLYnwsYOOxTCrlNvg0', 'id': '2hHFZLYnwsYOOxTCrlNvg0', 'images': [{'height': 640, 'url': 'https://i.scdn.co/image/ab67616d0000b27314974bf74b76f793ad0d71e0', 'width': 640}, {'height': 300, 'url': 'https://i.scdn.co/image/ab67616d00001e0214974bf74b76f793ad0d71e0', 'width': 300}, {'height': 64, 'url': 'https://i.scdn.co/image/ab67616d0000485114974bf74b76f793ad0d71e0', 'width': 64}], 'name': 'Glitter', 'release_date': '2001-09-11', 'release_date_precision': 'day', 'total_tracks': 12, 'type': 'album', 'uri': 'spotify:album:2hHFZLYnwsYOOxTCrlNvg0'}, {'album_group': 'album', 'album_type': 'album', 'artists': [{'external_urls': {'spotify': 'https://open.spotify.com/artist/4iHNK0tOyZPYnBU7nGAgpQ'}, 'href': 'https://api.spotify.com/v1/artists/4iHNK0tOyZPYnBU7nGAgpQ', 'id': '4iHNK0tOyZPYnBU7nGAgpQ', 'name': 'Mariah Carey', 'type': 'artist', 'uri': 'spotify:artist:4iHNK0tOyZPYnBU7nGAgpQ'}], 'external_urls': {'spotify': 'https://open.spotify.com/album/1iSTXHBhLc9ImaqyvVZGft'}, 'href': 'https://api.spotify.com/v1/albums/1iSTXHBhLc9ImaqyvVZGft', 'id': '1iSTXHBhLc9ImaqyvVZGft', 'images': [{'height': 640, 'url': 'https://i.scdn.co/image/ab67616d0000b27376a25340423e6ca8125ed06d', 'width': 640}, {'height': 300, 'url': 'https://i.scdn.co/image/ab67616d00001e0276a25340423e6ca8125ed06d', 'width': 300}, {'height': 64, 'url': 'https://i.scdn.co/image/ab67616d0000485176a25340423e6ca8125ed06d', 'width': 64}], 'name': 'Rainbow', 'release_date': '1999-11-02', 'release_date_precision': 'day', 'total_tracks': 14, 'type': 'album', 'uri': 'spotify:album:1iSTXHBhLc9ImaqyvVZGft'}, {'album_group': 'album', 'album_type': 'album', 'artists': [{'external_urls': {'spotify': 'https://open.spotify.com/artist/4iHNK0tOyZPYnBU7nGAgpQ'}, 'href': 'https://api.spotify.com/v1/artists/4iHNK0tOyZPYnBU7nGAgpQ', 'id': '4iHNK0tOyZPYnBU7nGAgpQ', 'name': 'Mariah Carey', 'type': 'artist', 'uri': 'spotify:artist:4iHNK0tOyZPYnBU7nGAgpQ'}], 'external_urls': {'spotify': 'https://open.spotify.com/album/7aDBFWp72Pz4NZEtVBANi9'}, 'href': 'https://api.spotify.com/v1/albums/7aDBFWp72Pz4NZEtVBANi9', 'id': '7aDBFWp72Pz4NZEtVBANi9', 'images': [{'height': 640, 'url': 'https://i.scdn.co/image/ab67616d0000b27398ed501c6a838b2244ebaf75', 'width': 640}, {'height': 300, 'url': 'https://i.scdn.co/image/ab67616d00001e0298ed501c6a838b2244ebaf75', 'width': 300}, {'height': 64, 'url': 'https://i.scdn.co/image/ab67616d0000485198ed501c6a838b2244ebaf75', 'width': 64}], 'name': 'Butterfly', 'release_date': '1997-09-16', 'release_date_precision': 'day', 'total_tracks': 12, 'type': 'album', 'uri': 'spotify:album:7aDBFWp72Pz4NZEtVBANi9'}, {'album_group': 'album', 'album_type': 'album', 'artists': [{'external_urls': {'spotify': 'https://open.spotify.com/artist/4iHNK0tOyZPYnBU7nGAgpQ'}, 'href': 'https://api.spotify.com/v1/artists/4iHNK0tOyZPYnBU7nGAgpQ', 'id': '4iHNK0tOyZPYnBU7nGAgpQ', 'name': 'Mariah Carey', 'type': 'artist', 'uri': 'spotify:artist:4iHNK0tOyZPYnBU7nGAgpQ'}], 'external_urls': {'spotify': 'https://open.spotify.com/album/1ibYM4abQtSVQFQWvDSo4J'}, 'href': 'https://api.spotify.com/v1/albums/1ibYM4abQtSVQFQWvDSo4J', 'id': '1ibYM4abQtSVQFQWvDSo4J', 'images': [{'height': 640, 'url': 'https://i.scdn.co/image/ab67616d0000b273749e9bfa78277f30ad2c9a9c', 'width': 640}, {'height': 300, 'url': 'https://i.scdn.co/image/ab67616d00001e02749e9bfa78277f30ad2c9a9c', 'width': 300}, {'height': 64, 'url': 'https://i.scdn.co/image/ab67616d00004851749e9bfa78277f30ad2c9a9c', 'width': 64}], 'name': 'Daydream', 'release_date': '1995-10-03', 'release_date_precision': 'day', 'total_tracks': 12, 'type': 'album', 'uri': 'spotify:album:1ibYM4abQtSVQFQWvDSo4J'}, {'album_group': 'album', 'album_type': 'album', 'artists': [{'external_urls': {'spotify': 'https://open.spotify.com/artist/4iHNK0tOyZPYnBU7nGAgpQ'}, 'href': 'https://api.spotify.com/v1/artists/4iHNK0tOyZPYnBU7nGAgpQ', 'id': '4iHNK0tOyZPYnBU7nGAgpQ', 'name': 'Mariah Carey', 'type': 'artist', 'uri': 'spotify:artist:4iHNK0tOyZPYnBU7nGAgpQ'}], 'external_urls': {'spotify': 'https://open.spotify.com/album/61ulfFSmmxMhc2wCdmdMkN'}, 'href': 'https://api.spotify.com/v1/albums/61ulfFSmmxMhc2wCdmdMkN', 'id': '61ulfFSmmxMhc2wCdmdMkN', 'images': [{'height': 640, 'url': 'https://i.scdn.co/image/ab67616d0000b2734246e3158421f5abb75abc4f', 'width': 640}, {'height': 300, 'url': 'https://i.scdn.co/image/ab67616d00001e024246e3158421f5abb75abc4f', 'width': 300}, {'height': 64, 'url': 'https://i.scdn.co/image/ab67616d000048514246e3158421f5abb75abc4f', 'width': 64}], 'name': 'Merry Christmas', 'release_date': '1994-10-28', 'release_date_precision': 'day', 'total_tracks': 10, 'type': 'album', 'uri': 'spotify:album:61ulfFSmmxMhc2wCdmdMkN'}, {'album_group': 'album', 'album_type': 'album', 'artists': [{'external_urls': {'spotify': 'https://open.spotify.com/artist/4iHNK0tOyZPYnBU7nGAgpQ'}, 'href': 'https://api.spotify.com/v1/artists/4iHNK0tOyZPYnBU7nGAgpQ', 'id': '4iHNK0tOyZPYnBU7nGAgpQ', 'name': 'Mariah Carey', 'type': 'artist', 'uri': 'spotify:artist:4iHNK0tOyZPYnBU7nGAgpQ'}], 'external_urls': {'spotify': 'https://open.spotify.com/album/2NKxb7pk04CuZab5udkGUl'}, 'href': 'https://api.spotify.com/v1/albums/2NKxb7pk04CuZab5udkGUl', 'id': '2NKxb7pk04CuZab5udkGUl', 'images': [{'height': 640, 'url': 'https://i.scdn.co/image/ab67616d0000b2730f688fa11af022f0210e21cb', 'width': 640}, {'height': 300, 'url': 'https://i.scdn.co/image/ab67616d00001e020f688fa11af022f0210e21cb', 'width': 300}, {'height': 64, 'url': 'https://i.scdn.co/image/ab67616d000048510f688fa11af022f0210e21cb', 'width': 64}], 'name': 'Music Box', 'release_date': '1993-08-31', 'release_date_precision': 'day', 'total_tracks': 10, 'type': 'album', 'uri': 'spotify:album:2NKxb7pk04CuZab5udkGUl'}, {'album_group': 'album', 'album_type': 'album', 'artists': [{'external_urls': {'spotify': 'https://open.spotify.com/artist/4iHNK0tOyZPYnBU7nGAgpQ'}, 'href': 'https://api.spotify.com/v1/artists/4iHNK0tOyZPYnBU7nGAgpQ', 'id': '4iHNK0tOyZPYnBU7nGAgpQ', 'name': 'Mariah Carey', 'type': 'artist', 'uri': 'spotify:artist:4iHNK0tOyZPYnBU7nGAgpQ'}], 'external_urls': {'spotify': 'https://open.spotify.com/album/0SHpIbyBLUugMXsl3yNkUz'}, 'href': 'https://api.spotify.com/v1/albums/0SHpIbyBLUugMXsl3yNkUz', 'id': '0SHpIbyBLUugMXsl3yNkUz', 'images': [{'height': 640, 'url': 'https://i.scdn.co/image/ab67616d0000b273cac78df6ec3c73e118a308e0', 'width': 640}, {'height': 300, 'url': 'https://i.scdn.co/image/ab67616d00001e02cac78df6ec3c73e118a308e0', 'width': 300}, {'height': 64, 'url': 'https://i.scdn.co/image/ab67616d00004851cac78df6ec3c73e118a308e0', 'width': 64}], 'name': 'Emotions', 'release_date': '1991-09-17', 'release_date_precision': 'day', 'total_tracks': 10, 'type': 'album', 'uri': 'spotify:album:0SHpIbyBLUugMXsl3yNkUz'}, {'album_group': 'album', 'album_type': 'album', 'artists': [{'external_urls': {'spotify': 'https://open.spotify.com/artist/4iHNK0tOyZPYnBU7nGAgpQ'}, 'href': 'https://api.spotify.com/v1/artists/4iHNK0tOyZPYnBU7nGAgpQ', 'id': '4iHNK0tOyZPYnBU7nGAgpQ', 'name': 'Mariah Carey', 'type': 'artist', 'uri': 'spotify:artist:4iHNK0tOyZPYnBU7nGAgpQ'}], 'external_urls': {'spotify': 'https://open.spotify.com/album/5SwNGsGw1I8H361DKiYnnn'}, 'href': 'https://api.spotify.com/v1/albums/5SwNGsGw1I8H361DKiYnnn', 'id': '5SwNGsGw1I8H361DKiYnnn', 'images': [{'height': 640, 'url': 'https://i.scdn.co/image/ab67616d0000b2735084c69ed3f70e8fb139e1ea', 'width': 640}, {'height': 300, 'url': 'https://i.scdn.co/image/ab67616d00001e025084c69ed3f70e8fb139e1ea', 'width': 300}, {'height': 64, 'url': 'https://i.scdn.co/image/ab67616d000048515084c69ed3f70e8fb139e1ea', 'width': 64}], 'name': 'Mariah Carey', 'release_date': '1990-06-12', 'release_date_precision': 'day', 'total_tracks': 11, 'type': 'album', 'uri': 'spotify:album:5SwNGsGw1I8H361DKiYnnn'}], 'limit': 50, 'next': None, 'offset': 0, 'previous': None, 'total': 23}\n",
            "Mariah Carey's Magical Christmas Special (Apple TV+ Original Soundtrack)\n",
            "The Rarities\n",
            "Merry Christmas (Deluxe Anniversary Edition)\n",
            "Caution\n",
            "Me. I Am Mariah…The Elusive Chanteuse\n",
            "Merry Christmas II You\n",
            "Memoirs of an imperfect Angel (International Version)\n",
            "E=MC2\n",
            "The Emancipation of Mimi\n",
            "Charmbracelet\n",
            "Glitter\n",
            "Rainbow\n",
            "Butterfly\n",
            "Daydream\n",
            "Merry Christmas\n",
            "https://api.spotify.com/v1/albums?ids=5VfesyhwiNgpEEPXlO5c84%2C0v1DRRYBXYg1uVN1CIsyy0%2C0cS9prZ8u3fdbc7lmtCaMV%2C64zK6tmksJw9gNZR0L4DVx%2C6hGRm1piHNE0Xp7I5Guesy%2C4q88opkbXkvvL0iIvbs0pv%2C0an7K6LfvYERpVviYMUFp0%2C31MluXLYC0ZnCSfUZ5T4GX%2C6ek7Y68IlB6CoFkkc2gEQb%2C2UYie72CXeuwIB7YepDidw%2C2hHFZLYnwsYOOxTCrlNvg0%2C1iSTXHBhLc9ImaqyvVZGft%2C7aDBFWp72Pz4NZEtVBANi9%2C1ibYM4abQtSVQFQWvDSo4J%2C61ulfFSmmxMhc2wCdmdMkN\n"
          ]
        }
      ]
    },
    {
      "cell_type": "markdown",
      "source": [
        "Get Several Albums"
      ],
      "metadata": {
        "id": "LTPW5erLE280"
      }
    },
    {
      "cell_type": "code",
      "execution_count": null,
      "metadata": {
        "colab": {
          "base_uri": "https://localhost:8080/",
          "height": 1000
        },
        "cellView": "code",
        "id": "DacinQFhcRFD",
        "outputId": "739f2cb9-7379-44d6-8cfa-5d72e4140dd7"
      },
      "outputs": [
        {
          "output_type": "stream",
          "name": "stdout",
          "text": [
            "200\n"
          ]
        },
        {
          "output_type": "display_data",
          "data": {
            "text/html": [
              "<html>\n",
              "<head><meta charset=\"utf-8\" /></head>\n",
              "<body>\n",
              "    <div>            <script src=\"https://cdnjs.cloudflare.com/ajax/libs/mathjax/2.7.5/MathJax.js?config=TeX-AMS-MML_SVG\"></script><script type=\"text/javascript\">if (window.MathJax) {MathJax.Hub.Config({SVG: {font: \"STIX-Web\"}});}</script>                <script type=\"text/javascript\">window.PlotlyConfig = {MathJaxConfig: 'local'};</script>\n",
              "        <script src=\"https://cdn.plot.ly/plotly-2.8.3.min.js\"></script>                <div id=\"34e10ebb-48bd-4b34-9982-39bfa38a794c\" class=\"plotly-graph-div\" style=\"height:525px; width:100%;\"></div>            <script type=\"text/javascript\">                                    window.PLOTLYENV=window.PLOTLYENV || {};                                    if (document.getElementById(\"34e10ebb-48bd-4b34-9982-39bfa38a794c\")) {                    Plotly.newPlot(                        \"34e10ebb-48bd-4b34-9982-39bfa38a794c\",                        [{\"hovertext\":[\"Mariah Carey's Magical Christmas Special (Apple TV+ Original Soundtrack): 2020-12-11\",\"The Rarities: 2020-10-02\",\"Merry Christmas (Deluxe Anniversary Edition): 2019-11-01\",\"Caution: 2018-11-16\",\"Me. I Am Mariah\\u2026The Elusive Chanteuse: 2014-05-23\",\"Merry Christmas II You: 2010-11-02\",\"Memoirs of an imperfect Angel (International Version): 2009-09-29\",\"E=MC2: 2008-04-15\",\"The Emancipation of Mimi: 2005\",\"Charmbracelet: 2002-12-02\",\"Glitter: 2001-09-11\",\"Rainbow: 1999-11-02\",\"Butterfly: 1997-09-16\",\"Daydream: 1995-10-03\",\"Merry Christmas: 1994-10-28\"],\"line\":{\"color\":\"rgba(133,50,50,1.0)\"},\"marker\":{\"color\":\"rgba(193,0,0,1.0)\",\"size\":10.0},\"mode\":\"text+markers+lines\",\"text\":[\"Mariah Carey's Magical Christmas Special (Apple TV+ Original Soundtrack)\",\"The Rarities\",\"Merry Christmas (Deluxe Anniversary Edition)\",\"Caution\",\"Me. I Am Mariah\\u2026The Elusive Chanteuse\",\"Merry Christmas II You\",\"Memoirs of an imperfect Angel (International Version)\",\"E=MC2\",\"The Emancipation of Mimi\",\"Charmbracelet\",\"Glitter\",\"Rainbow\",\"Butterfly\",\"Daydream\",\"Merry Christmas\"],\"textposition\":\"top right\",\"x\":[\"2020-12-11\",\"2020-10-02\",\"2019-11-01\",\"2018-11-16\",\"2014-05-23\",\"2010-11-02\",\"2009-09-29\",\"2008-04-15\",\"2005\",\"2002-12-02\",\"2001-09-11\",\"1999-11-02\",\"1997-09-16\",\"1995-10-03\",\"1994-10-28\"],\"y\":[30,44,31,44,42,26,55,58,59,42,42,55,57,66,53],\"type\":\"scatter\",\"textfont\":{\"color\":\"rgba(250,10,10,1.0)\"}}],                        {\"plot_bgcolor\":\"rgba(161, 183, 209, 1.0)\",\"title\":{\"text\":\"Popularity of Mariah Carey's Albums Over the Years\",\"font\":{\"size\":28}},\"xaxis\":{\"tickfont\":{\"size\":14},\"title\":{\"text\":\"Album Release Year\",\"font\":{\"size\":24}}},\"yaxis\":{\"tickfont\":{\"size\":14},\"title\":{\"text\":\"Popularity\",\"font\":{\"size\":24}}},\"template\":{\"data\":{\"bar\":[{\"error_x\":{\"color\":\"#2a3f5f\"},\"error_y\":{\"color\":\"#2a3f5f\"},\"marker\":{\"line\":{\"color\":\"#E5ECF6\",\"width\":0.5},\"pattern\":{\"fillmode\":\"overlay\",\"size\":10,\"solidity\":0.2}},\"type\":\"bar\"}],\"barpolar\":[{\"marker\":{\"line\":{\"color\":\"#E5ECF6\",\"width\":0.5},\"pattern\":{\"fillmode\":\"overlay\",\"size\":10,\"solidity\":0.2}},\"type\":\"barpolar\"}],\"carpet\":[{\"aaxis\":{\"endlinecolor\":\"#2a3f5f\",\"gridcolor\":\"white\",\"linecolor\":\"white\",\"minorgridcolor\":\"white\",\"startlinecolor\":\"#2a3f5f\"},\"baxis\":{\"endlinecolor\":\"#2a3f5f\",\"gridcolor\":\"white\",\"linecolor\":\"white\",\"minorgridcolor\":\"white\",\"startlinecolor\":\"#2a3f5f\"},\"type\":\"carpet\"}],\"choropleth\":[{\"colorbar\":{\"outlinewidth\":0,\"ticks\":\"\"},\"type\":\"choropleth\"}],\"contour\":[{\"colorbar\":{\"outlinewidth\":0,\"ticks\":\"\"},\"colorscale\":[[0.0,\"#0d0887\"],[0.1111111111111111,\"#46039f\"],[0.2222222222222222,\"#7201a8\"],[0.3333333333333333,\"#9c179e\"],[0.4444444444444444,\"#bd3786\"],[0.5555555555555556,\"#d8576b\"],[0.6666666666666666,\"#ed7953\"],[0.7777777777777778,\"#fb9f3a\"],[0.8888888888888888,\"#fdca26\"],[1.0,\"#f0f921\"]],\"type\":\"contour\"}],\"contourcarpet\":[{\"colorbar\":{\"outlinewidth\":0,\"ticks\":\"\"},\"type\":\"contourcarpet\"}],\"heatmap\":[{\"colorbar\":{\"outlinewidth\":0,\"ticks\":\"\"},\"colorscale\":[[0.0,\"#0d0887\"],[0.1111111111111111,\"#46039f\"],[0.2222222222222222,\"#7201a8\"],[0.3333333333333333,\"#9c179e\"],[0.4444444444444444,\"#bd3786\"],[0.5555555555555556,\"#d8576b\"],[0.6666666666666666,\"#ed7953\"],[0.7777777777777778,\"#fb9f3a\"],[0.8888888888888888,\"#fdca26\"],[1.0,\"#f0f921\"]],\"type\":\"heatmap\"}],\"heatmapgl\":[{\"colorbar\":{\"outlinewidth\":0,\"ticks\":\"\"},\"colorscale\":[[0.0,\"#0d0887\"],[0.1111111111111111,\"#46039f\"],[0.2222222222222222,\"#7201a8\"],[0.3333333333333333,\"#9c179e\"],[0.4444444444444444,\"#bd3786\"],[0.5555555555555556,\"#d8576b\"],[0.6666666666666666,\"#ed7953\"],[0.7777777777777778,\"#fb9f3a\"],[0.8888888888888888,\"#fdca26\"],[1.0,\"#f0f921\"]],\"type\":\"heatmapgl\"}],\"histogram\":[{\"marker\":{\"pattern\":{\"fillmode\":\"overlay\",\"size\":10,\"solidity\":0.2}},\"type\":\"histogram\"}],\"histogram2d\":[{\"colorbar\":{\"outlinewidth\":0,\"ticks\":\"\"},\"colorscale\":[[0.0,\"#0d0887\"],[0.1111111111111111,\"#46039f\"],[0.2222222222222222,\"#7201a8\"],[0.3333333333333333,\"#9c179e\"],[0.4444444444444444,\"#bd3786\"],[0.5555555555555556,\"#d8576b\"],[0.6666666666666666,\"#ed7953\"],[0.7777777777777778,\"#fb9f3a\"],[0.8888888888888888,\"#fdca26\"],[1.0,\"#f0f921\"]],\"type\":\"histogram2d\"}],\"histogram2dcontour\":[{\"colorbar\":{\"outlinewidth\":0,\"ticks\":\"\"},\"colorscale\":[[0.0,\"#0d0887\"],[0.1111111111111111,\"#46039f\"],[0.2222222222222222,\"#7201a8\"],[0.3333333333333333,\"#9c179e\"],[0.4444444444444444,\"#bd3786\"],[0.5555555555555556,\"#d8576b\"],[0.6666666666666666,\"#ed7953\"],[0.7777777777777778,\"#fb9f3a\"],[0.8888888888888888,\"#fdca26\"],[1.0,\"#f0f921\"]],\"type\":\"histogram2dcontour\"}],\"mesh3d\":[{\"colorbar\":{\"outlinewidth\":0,\"ticks\":\"\"},\"type\":\"mesh3d\"}],\"parcoords\":[{\"line\":{\"colorbar\":{\"outlinewidth\":0,\"ticks\":\"\"}},\"type\":\"parcoords\"}],\"pie\":[{\"automargin\":true,\"type\":\"pie\"}],\"scatter\":[{\"marker\":{\"colorbar\":{\"outlinewidth\":0,\"ticks\":\"\"}},\"type\":\"scatter\"}],\"scatter3d\":[{\"line\":{\"colorbar\":{\"outlinewidth\":0,\"ticks\":\"\"}},\"marker\":{\"colorbar\":{\"outlinewidth\":0,\"ticks\":\"\"}},\"type\":\"scatter3d\"}],\"scattercarpet\":[{\"marker\":{\"colorbar\":{\"outlinewidth\":0,\"ticks\":\"\"}},\"type\":\"scattercarpet\"}],\"scattergeo\":[{\"marker\":{\"colorbar\":{\"outlinewidth\":0,\"ticks\":\"\"}},\"type\":\"scattergeo\"}],\"scattergl\":[{\"marker\":{\"colorbar\":{\"outlinewidth\":0,\"ticks\":\"\"}},\"type\":\"scattergl\"}],\"scattermapbox\":[{\"marker\":{\"colorbar\":{\"outlinewidth\":0,\"ticks\":\"\"}},\"type\":\"scattermapbox\"}],\"scatterpolar\":[{\"marker\":{\"colorbar\":{\"outlinewidth\":0,\"ticks\":\"\"}},\"type\":\"scatterpolar\"}],\"scatterpolargl\":[{\"marker\":{\"colorbar\":{\"outlinewidth\":0,\"ticks\":\"\"}},\"type\":\"scatterpolargl\"}],\"scatterternary\":[{\"marker\":{\"colorbar\":{\"outlinewidth\":0,\"ticks\":\"\"}},\"type\":\"scatterternary\"}],\"surface\":[{\"colorbar\":{\"outlinewidth\":0,\"ticks\":\"\"},\"colorscale\":[[0.0,\"#0d0887\"],[0.1111111111111111,\"#46039f\"],[0.2222222222222222,\"#7201a8\"],[0.3333333333333333,\"#9c179e\"],[0.4444444444444444,\"#bd3786\"],[0.5555555555555556,\"#d8576b\"],[0.6666666666666666,\"#ed7953\"],[0.7777777777777778,\"#fb9f3a\"],[0.8888888888888888,\"#fdca26\"],[1.0,\"#f0f921\"]],\"type\":\"surface\"}],\"table\":[{\"cells\":{\"fill\":{\"color\":\"#EBF0F8\"},\"line\":{\"color\":\"white\"}},\"header\":{\"fill\":{\"color\":\"#C8D4E3\"},\"line\":{\"color\":\"white\"}},\"type\":\"table\"}]},\"layout\":{\"annotationdefaults\":{\"arrowcolor\":\"#2a3f5f\",\"arrowhead\":0,\"arrowwidth\":1},\"autotypenumbers\":\"strict\",\"coloraxis\":{\"colorbar\":{\"outlinewidth\":0,\"ticks\":\"\"}},\"colorscale\":{\"diverging\":[[0,\"#8e0152\"],[0.1,\"#c51b7d\"],[0.2,\"#de77ae\"],[0.3,\"#f1b6da\"],[0.4,\"#fde0ef\"],[0.5,\"#f7f7f7\"],[0.6,\"#e6f5d0\"],[0.7,\"#b8e186\"],[0.8,\"#7fbc41\"],[0.9,\"#4d9221\"],[1,\"#276419\"]],\"sequential\":[[0.0,\"#0d0887\"],[0.1111111111111111,\"#46039f\"],[0.2222222222222222,\"#7201a8\"],[0.3333333333333333,\"#9c179e\"],[0.4444444444444444,\"#bd3786\"],[0.5555555555555556,\"#d8576b\"],[0.6666666666666666,\"#ed7953\"],[0.7777777777777778,\"#fb9f3a\"],[0.8888888888888888,\"#fdca26\"],[1.0,\"#f0f921\"]],\"sequentialminus\":[[0.0,\"#0d0887\"],[0.1111111111111111,\"#46039f\"],[0.2222222222222222,\"#7201a8\"],[0.3333333333333333,\"#9c179e\"],[0.4444444444444444,\"#bd3786\"],[0.5555555555555556,\"#d8576b\"],[0.6666666666666666,\"#ed7953\"],[0.7777777777777778,\"#fb9f3a\"],[0.8888888888888888,\"#fdca26\"],[1.0,\"#f0f921\"]]},\"colorway\":[\"#636efa\",\"#EF553B\",\"#00cc96\",\"#ab63fa\",\"#FFA15A\",\"#19d3f3\",\"#FF6692\",\"#B6E880\",\"#FF97FF\",\"#FECB52\"],\"font\":{\"color\":\"#2a3f5f\"},\"geo\":{\"bgcolor\":\"white\",\"lakecolor\":\"white\",\"landcolor\":\"#E5ECF6\",\"showlakes\":true,\"showland\":true,\"subunitcolor\":\"white\"},\"hoverlabel\":{\"align\":\"left\"},\"hovermode\":\"closest\",\"mapbox\":{\"style\":\"light\"},\"paper_bgcolor\":\"white\",\"plot_bgcolor\":\"#E5ECF6\",\"polar\":{\"angularaxis\":{\"gridcolor\":\"white\",\"linecolor\":\"white\",\"ticks\":\"\"},\"bgcolor\":\"#E5ECF6\",\"radialaxis\":{\"gridcolor\":\"white\",\"linecolor\":\"white\",\"ticks\":\"\"}},\"scene\":{\"xaxis\":{\"backgroundcolor\":\"#E5ECF6\",\"gridcolor\":\"white\",\"gridwidth\":2,\"linecolor\":\"white\",\"showbackground\":true,\"ticks\":\"\",\"zerolinecolor\":\"white\"},\"yaxis\":{\"backgroundcolor\":\"#E5ECF6\",\"gridcolor\":\"white\",\"gridwidth\":2,\"linecolor\":\"white\",\"showbackground\":true,\"ticks\":\"\",\"zerolinecolor\":\"white\"},\"zaxis\":{\"backgroundcolor\":\"#E5ECF6\",\"gridcolor\":\"white\",\"gridwidth\":2,\"linecolor\":\"white\",\"showbackground\":true,\"ticks\":\"\",\"zerolinecolor\":\"white\"}},\"shapedefaults\":{\"line\":{\"color\":\"#2a3f5f\"}},\"ternary\":{\"aaxis\":{\"gridcolor\":\"white\",\"linecolor\":\"white\",\"ticks\":\"\"},\"baxis\":{\"gridcolor\":\"white\",\"linecolor\":\"white\",\"ticks\":\"\"},\"bgcolor\":\"#E5ECF6\",\"caxis\":{\"gridcolor\":\"white\",\"linecolor\":\"white\",\"ticks\":\"\"}},\"title\":{\"x\":0.05},\"xaxis\":{\"automargin\":true,\"gridcolor\":\"white\",\"linecolor\":\"white\",\"ticks\":\"\",\"title\":{\"standoff\":15},\"zerolinecolor\":\"white\",\"zerolinewidth\":2},\"yaxis\":{\"automargin\":true,\"gridcolor\":\"white\",\"linecolor\":\"white\",\"ticks\":\"\",\"title\":{\"standoff\":15},\"zerolinecolor\":\"white\",\"zerolinewidth\":2}}}},                        {\"responsive\": true}                    ).then(function(){\n",
              "                            \n",
              "var gd = document.getElementById('34e10ebb-48bd-4b34-9982-39bfa38a794c');\n",
              "var x = new MutationObserver(function (mutations, observer) {{\n",
              "        var display = window.getComputedStyle(gd).display;\n",
              "        if (!display || display === 'none') {{\n",
              "            console.log([gd, 'removed!']);\n",
              "            Plotly.purge(gd);\n",
              "            observer.disconnect();\n",
              "        }}\n",
              "}});\n",
              "\n",
              "// Listen for the removal of the full notebook cells\n",
              "var notebookContainer = gd.closest('#notebook-container');\n",
              "if (notebookContainer) {{\n",
              "    x.observe(notebookContainer, {childList: true});\n",
              "}}\n",
              "\n",
              "// Listen for the clearing of the current output cell\n",
              "var outputEl = gd.closest('.output');\n",
              "if (outputEl) {{\n",
              "    x.observe(outputEl, {childList: true});\n",
              "}}\n",
              "\n",
              "                        })                };                            </script>        </div>\n",
              "</body>\n",
              "</html>"
            ]
          },
          "metadata": {}
        },
        {
          "output_type": "display_data",
          "data": {
            "text/html": [
              "<html>\n",
              "<head><meta charset=\"utf-8\" /></head>\n",
              "<body>\n",
              "    <div>            <script src=\"https://cdnjs.cloudflare.com/ajax/libs/mathjax/2.7.5/MathJax.js?config=TeX-AMS-MML_SVG\"></script><script type=\"text/javascript\">if (window.MathJax) {MathJax.Hub.Config({SVG: {font: \"STIX-Web\"}});}</script>                <script type=\"text/javascript\">window.PlotlyConfig = {MathJaxConfig: 'local'};</script>\n",
              "        <script src=\"https://cdn.plot.ly/plotly-2.8.3.min.js\"></script>                <div id=\"77259d48-1ba9-4569-8d22-4f250bb7f3c8\" class=\"plotly-graph-div\" style=\"height:525px; width:100%;\"></div>            <script type=\"text/javascript\">                                    window.PLOTLYENV=window.PLOTLYENV || {};                                    if (document.getElementById(\"77259d48-1ba9-4569-8d22-4f250bb7f3c8\")) {                    Plotly.newPlot(                        \"77259d48-1ba9-4569-8d22-4f250bb7f3c8\",                        [{\"marker\":{\"color\":\"rgba(193,0,0,1.0)\"},\"width\":0.5,\"x\":[\"Mariah Carey\"],\"y\":[76],\"type\":\"bar\"}],                        {\"plot_bgcolor\":\"rgba(161, 183, 209, 1.0)\",\"title\":{\"text\":\"Mariah Carey's Popularity\",\"font\":{\"size\":28}},\"xaxis\":{\"tickfont\":{\"size\":14},\"title\":{\"text\":\"Artist's Name\",\"font\":{\"size\":24}}},\"yaxis\":{\"tickfont\":{\"size\":14},\"title\":{\"text\":\"Popularity\",\"font\":{\"size\":24}}},\"template\":{\"data\":{\"bar\":[{\"error_x\":{\"color\":\"#2a3f5f\"},\"error_y\":{\"color\":\"#2a3f5f\"},\"marker\":{\"line\":{\"color\":\"#E5ECF6\",\"width\":0.5},\"pattern\":{\"fillmode\":\"overlay\",\"size\":10,\"solidity\":0.2}},\"type\":\"bar\"}],\"barpolar\":[{\"marker\":{\"line\":{\"color\":\"#E5ECF6\",\"width\":0.5},\"pattern\":{\"fillmode\":\"overlay\",\"size\":10,\"solidity\":0.2}},\"type\":\"barpolar\"}],\"carpet\":[{\"aaxis\":{\"endlinecolor\":\"#2a3f5f\",\"gridcolor\":\"white\",\"linecolor\":\"white\",\"minorgridcolor\":\"white\",\"startlinecolor\":\"#2a3f5f\"},\"baxis\":{\"endlinecolor\":\"#2a3f5f\",\"gridcolor\":\"white\",\"linecolor\":\"white\",\"minorgridcolor\":\"white\",\"startlinecolor\":\"#2a3f5f\"},\"type\":\"carpet\"}],\"choropleth\":[{\"colorbar\":{\"outlinewidth\":0,\"ticks\":\"\"},\"type\":\"choropleth\"}],\"contour\":[{\"colorbar\":{\"outlinewidth\":0,\"ticks\":\"\"},\"colorscale\":[[0.0,\"#0d0887\"],[0.1111111111111111,\"#46039f\"],[0.2222222222222222,\"#7201a8\"],[0.3333333333333333,\"#9c179e\"],[0.4444444444444444,\"#bd3786\"],[0.5555555555555556,\"#d8576b\"],[0.6666666666666666,\"#ed7953\"],[0.7777777777777778,\"#fb9f3a\"],[0.8888888888888888,\"#fdca26\"],[1.0,\"#f0f921\"]],\"type\":\"contour\"}],\"contourcarpet\":[{\"colorbar\":{\"outlinewidth\":0,\"ticks\":\"\"},\"type\":\"contourcarpet\"}],\"heatmap\":[{\"colorbar\":{\"outlinewidth\":0,\"ticks\":\"\"},\"colorscale\":[[0.0,\"#0d0887\"],[0.1111111111111111,\"#46039f\"],[0.2222222222222222,\"#7201a8\"],[0.3333333333333333,\"#9c179e\"],[0.4444444444444444,\"#bd3786\"],[0.5555555555555556,\"#d8576b\"],[0.6666666666666666,\"#ed7953\"],[0.7777777777777778,\"#fb9f3a\"],[0.8888888888888888,\"#fdca26\"],[1.0,\"#f0f921\"]],\"type\":\"heatmap\"}],\"heatmapgl\":[{\"colorbar\":{\"outlinewidth\":0,\"ticks\":\"\"},\"colorscale\":[[0.0,\"#0d0887\"],[0.1111111111111111,\"#46039f\"],[0.2222222222222222,\"#7201a8\"],[0.3333333333333333,\"#9c179e\"],[0.4444444444444444,\"#bd3786\"],[0.5555555555555556,\"#d8576b\"],[0.6666666666666666,\"#ed7953\"],[0.7777777777777778,\"#fb9f3a\"],[0.8888888888888888,\"#fdca26\"],[1.0,\"#f0f921\"]],\"type\":\"heatmapgl\"}],\"histogram\":[{\"marker\":{\"pattern\":{\"fillmode\":\"overlay\",\"size\":10,\"solidity\":0.2}},\"type\":\"histogram\"}],\"histogram2d\":[{\"colorbar\":{\"outlinewidth\":0,\"ticks\":\"\"},\"colorscale\":[[0.0,\"#0d0887\"],[0.1111111111111111,\"#46039f\"],[0.2222222222222222,\"#7201a8\"],[0.3333333333333333,\"#9c179e\"],[0.4444444444444444,\"#bd3786\"],[0.5555555555555556,\"#d8576b\"],[0.6666666666666666,\"#ed7953\"],[0.7777777777777778,\"#fb9f3a\"],[0.8888888888888888,\"#fdca26\"],[1.0,\"#f0f921\"]],\"type\":\"histogram2d\"}],\"histogram2dcontour\":[{\"colorbar\":{\"outlinewidth\":0,\"ticks\":\"\"},\"colorscale\":[[0.0,\"#0d0887\"],[0.1111111111111111,\"#46039f\"],[0.2222222222222222,\"#7201a8\"],[0.3333333333333333,\"#9c179e\"],[0.4444444444444444,\"#bd3786\"],[0.5555555555555556,\"#d8576b\"],[0.6666666666666666,\"#ed7953\"],[0.7777777777777778,\"#fb9f3a\"],[0.8888888888888888,\"#fdca26\"],[1.0,\"#f0f921\"]],\"type\":\"histogram2dcontour\"}],\"mesh3d\":[{\"colorbar\":{\"outlinewidth\":0,\"ticks\":\"\"},\"type\":\"mesh3d\"}],\"parcoords\":[{\"line\":{\"colorbar\":{\"outlinewidth\":0,\"ticks\":\"\"}},\"type\":\"parcoords\"}],\"pie\":[{\"automargin\":true,\"type\":\"pie\"}],\"scatter\":[{\"marker\":{\"colorbar\":{\"outlinewidth\":0,\"ticks\":\"\"}},\"type\":\"scatter\"}],\"scatter3d\":[{\"line\":{\"colorbar\":{\"outlinewidth\":0,\"ticks\":\"\"}},\"marker\":{\"colorbar\":{\"outlinewidth\":0,\"ticks\":\"\"}},\"type\":\"scatter3d\"}],\"scattercarpet\":[{\"marker\":{\"colorbar\":{\"outlinewidth\":0,\"ticks\":\"\"}},\"type\":\"scattercarpet\"}],\"scattergeo\":[{\"marker\":{\"colorbar\":{\"outlinewidth\":0,\"ticks\":\"\"}},\"type\":\"scattergeo\"}],\"scattergl\":[{\"marker\":{\"colorbar\":{\"outlinewidth\":0,\"ticks\":\"\"}},\"type\":\"scattergl\"}],\"scattermapbox\":[{\"marker\":{\"colorbar\":{\"outlinewidth\":0,\"ticks\":\"\"}},\"type\":\"scattermapbox\"}],\"scatterpolar\":[{\"marker\":{\"colorbar\":{\"outlinewidth\":0,\"ticks\":\"\"}},\"type\":\"scatterpolar\"}],\"scatterpolargl\":[{\"marker\":{\"colorbar\":{\"outlinewidth\":0,\"ticks\":\"\"}},\"type\":\"scatterpolargl\"}],\"scatterternary\":[{\"marker\":{\"colorbar\":{\"outlinewidth\":0,\"ticks\":\"\"}},\"type\":\"scatterternary\"}],\"surface\":[{\"colorbar\":{\"outlinewidth\":0,\"ticks\":\"\"},\"colorscale\":[[0.0,\"#0d0887\"],[0.1111111111111111,\"#46039f\"],[0.2222222222222222,\"#7201a8\"],[0.3333333333333333,\"#9c179e\"],[0.4444444444444444,\"#bd3786\"],[0.5555555555555556,\"#d8576b\"],[0.6666666666666666,\"#ed7953\"],[0.7777777777777778,\"#fb9f3a\"],[0.8888888888888888,\"#fdca26\"],[1.0,\"#f0f921\"]],\"type\":\"surface\"}],\"table\":[{\"cells\":{\"fill\":{\"color\":\"#EBF0F8\"},\"line\":{\"color\":\"white\"}},\"header\":{\"fill\":{\"color\":\"#C8D4E3\"},\"line\":{\"color\":\"white\"}},\"type\":\"table\"}]},\"layout\":{\"annotationdefaults\":{\"arrowcolor\":\"#2a3f5f\",\"arrowhead\":0,\"arrowwidth\":1},\"autotypenumbers\":\"strict\",\"coloraxis\":{\"colorbar\":{\"outlinewidth\":0,\"ticks\":\"\"}},\"colorscale\":{\"diverging\":[[0,\"#8e0152\"],[0.1,\"#c51b7d\"],[0.2,\"#de77ae\"],[0.3,\"#f1b6da\"],[0.4,\"#fde0ef\"],[0.5,\"#f7f7f7\"],[0.6,\"#e6f5d0\"],[0.7,\"#b8e186\"],[0.8,\"#7fbc41\"],[0.9,\"#4d9221\"],[1,\"#276419\"]],\"sequential\":[[0.0,\"#0d0887\"],[0.1111111111111111,\"#46039f\"],[0.2222222222222222,\"#7201a8\"],[0.3333333333333333,\"#9c179e\"],[0.4444444444444444,\"#bd3786\"],[0.5555555555555556,\"#d8576b\"],[0.6666666666666666,\"#ed7953\"],[0.7777777777777778,\"#fb9f3a\"],[0.8888888888888888,\"#fdca26\"],[1.0,\"#f0f921\"]],\"sequentialminus\":[[0.0,\"#0d0887\"],[0.1111111111111111,\"#46039f\"],[0.2222222222222222,\"#7201a8\"],[0.3333333333333333,\"#9c179e\"],[0.4444444444444444,\"#bd3786\"],[0.5555555555555556,\"#d8576b\"],[0.6666666666666666,\"#ed7953\"],[0.7777777777777778,\"#fb9f3a\"],[0.8888888888888888,\"#fdca26\"],[1.0,\"#f0f921\"]]},\"colorway\":[\"#636efa\",\"#EF553B\",\"#00cc96\",\"#ab63fa\",\"#FFA15A\",\"#19d3f3\",\"#FF6692\",\"#B6E880\",\"#FF97FF\",\"#FECB52\"],\"font\":{\"color\":\"#2a3f5f\"},\"geo\":{\"bgcolor\":\"white\",\"lakecolor\":\"white\",\"landcolor\":\"#E5ECF6\",\"showlakes\":true,\"showland\":true,\"subunitcolor\":\"white\"},\"hoverlabel\":{\"align\":\"left\"},\"hovermode\":\"closest\",\"mapbox\":{\"style\":\"light\"},\"paper_bgcolor\":\"white\",\"plot_bgcolor\":\"#E5ECF6\",\"polar\":{\"angularaxis\":{\"gridcolor\":\"white\",\"linecolor\":\"white\",\"ticks\":\"\"},\"bgcolor\":\"#E5ECF6\",\"radialaxis\":{\"gridcolor\":\"white\",\"linecolor\":\"white\",\"ticks\":\"\"}},\"scene\":{\"xaxis\":{\"backgroundcolor\":\"#E5ECF6\",\"gridcolor\":\"white\",\"gridwidth\":2,\"linecolor\":\"white\",\"showbackground\":true,\"ticks\":\"\",\"zerolinecolor\":\"white\"},\"yaxis\":{\"backgroundcolor\":\"#E5ECF6\",\"gridcolor\":\"white\",\"gridwidth\":2,\"linecolor\":\"white\",\"showbackground\":true,\"ticks\":\"\",\"zerolinecolor\":\"white\"},\"zaxis\":{\"backgroundcolor\":\"#E5ECF6\",\"gridcolor\":\"white\",\"gridwidth\":2,\"linecolor\":\"white\",\"showbackground\":true,\"ticks\":\"\",\"zerolinecolor\":\"white\"}},\"shapedefaults\":{\"line\":{\"color\":\"#2a3f5f\"}},\"ternary\":{\"aaxis\":{\"gridcolor\":\"white\",\"linecolor\":\"white\",\"ticks\":\"\"},\"baxis\":{\"gridcolor\":\"white\",\"linecolor\":\"white\",\"ticks\":\"\"},\"bgcolor\":\"#E5ECF6\",\"caxis\":{\"gridcolor\":\"white\",\"linecolor\":\"white\",\"ticks\":\"\"}},\"title\":{\"x\":0.05},\"xaxis\":{\"automargin\":true,\"gridcolor\":\"white\",\"linecolor\":\"white\",\"ticks\":\"\",\"title\":{\"standoff\":15},\"zerolinecolor\":\"white\",\"zerolinewidth\":2},\"yaxis\":{\"automargin\":true,\"gridcolor\":\"white\",\"linecolor\":\"white\",\"ticks\":\"\",\"title\":{\"standoff\":15},\"zerolinecolor\":\"white\",\"zerolinewidth\":2}}}},                        {\"responsive\": true}                    ).then(function(){\n",
              "                            \n",
              "var gd = document.getElementById('77259d48-1ba9-4569-8d22-4f250bb7f3c8');\n",
              "var x = new MutationObserver(function (mutations, observer) {{\n",
              "        var display = window.getComputedStyle(gd).display;\n",
              "        if (!display || display === 'none') {{\n",
              "            console.log([gd, 'removed!']);\n",
              "            Plotly.purge(gd);\n",
              "            observer.disconnect();\n",
              "        }}\n",
              "}});\n",
              "\n",
              "// Listen for the removal of the full notebook cells\n",
              "var notebookContainer = gd.closest('#notebook-container');\n",
              "if (notebookContainer) {{\n",
              "    x.observe(notebookContainer, {childList: true});\n",
              "}}\n",
              "\n",
              "// Listen for the clearing of the current output cell\n",
              "var outputEl = gd.closest('.output');\n",
              "if (outputEl) {{\n",
              "    x.observe(outputEl, {childList: true});\n",
              "}}\n",
              "\n",
              "                        })                };                            </script>        </div>\n",
              "</body>\n",
              "</html>"
            ]
          },
          "metadata": {}
        }
      ],
      "source": [
        "#@title Get Several Albums\n",
        "\"\"\"With the URL of all of the artist's albums that we got we now want to make\n",
        "a plot of the popularity of the albums and the dates they were released\"\"\"\n",
        "import requests \n",
        "from datetime import datetime\n",
        "import plotly.graph_objects as go\n",
        "from plotly import offline\n",
        "\n",
        "def plot_album_popularity(albums_dict):\n",
        "  # Make lists of album info that is to be plotted\n",
        "  dates, names, popularities, total_tracks_list, labels = [], [], [], [], []\n",
        "  for album_dict in albums_dict:\n",
        "    name = album_dict['name']\n",
        "    popularity = album_dict['popularity']\n",
        "    date = album_dict['release_date']\n",
        "    total_tracks = album_dict['total_tracks']\n",
        "\n",
        "    label = f\"{name}: {date}\"\n",
        "\n",
        "    dates.append(date)\n",
        "    names.append(name)\n",
        "    popularities.append(popularity)\n",
        "    total_tracks_list.append(total_tracks)\n",
        "    labels.append(label)\n",
        "\n",
        "  # Set up the data to be plotted\n",
        "  data = [{\n",
        "    'type': 'scatter',\n",
        "    'x': dates,\n",
        "    'y': popularities,\n",
        "    'hovertext': labels,\n",
        "    'text': names,\n",
        "    'textfont_color': 'rgba(250,10,10,1.0)',\n",
        "    'textposition': 'top right',\n",
        "    'mode': 'text+markers+lines',\n",
        "    'marker': {\n",
        "        'color': 'rgba(193,0,0,1.0)',\n",
        "        'size': 10.0,\n",
        "    },\n",
        "    'line' :{\n",
        "        'color': 'rgba(133,50,50,1.0)'\n",
        "    }\n",
        "  }]\n",
        "  # Create layout with dictionary to allow more customization\n",
        "  my_layout = {\n",
        "    'title': f\"Popularity of {artist_info['name']}'s Albums Over the Years\",\n",
        "    'titlefont': {'size': 28},\n",
        "    'plot_bgcolor': 'rgba(161, 183, 209, 1.0)',\n",
        "    'xaxis': {\n",
        "        'title': 'Album Release Year',\n",
        "        'titlefont': {'size': 24},\n",
        "        'tickfont': {'size': 14},\n",
        "    },\n",
        "    'yaxis': {\n",
        "        'title': 'Popularity',\n",
        "        'titlefont': {'size': 24},\n",
        "        'tickfont': {'size': 14},\n",
        "    },\n",
        "  }\n",
        "\n",
        "\n",
        "  fig = {'data': data, 'layout': my_layout}\n",
        "  return fig\n",
        "\n",
        "def plot_artist_info(artist_info):\n",
        "\n",
        "  names = []\n",
        "  popularities = []\n",
        "\n",
        "  names.append(artist_info['name'])\n",
        "  popularities.append(artist_info['popularity'])\n",
        "\n",
        "  data = [{\n",
        "    'type': 'bar',\n",
        "    'x': names,\n",
        "    'y': popularities,\n",
        "    'width': 0.5,\n",
        "    'marker': {\n",
        "      'color': 'rgba(193,0,0,1.0)',\n",
        "    },\n",
        "  }]\n",
        "  my_layout = {\n",
        "      'title': f\"{artist_info['name']}'s Popularity\",\n",
        "      'titlefont': {'size': 28},\n",
        "    'plot_bgcolor': 'rgba(161, 183, 209, 1.0)',\n",
        "    'xaxis': {\n",
        "        'title': \"Artist's Name\",\n",
        "        'titlefont': {'size': 24},\n",
        "        'tickfont': {'size': 14},\n",
        "    },\n",
        "    'yaxis': {\n",
        "        'title': 'Popularity',\n",
        "        'titlefont': {'size': 24},\n",
        "        'tickfont': {'size': 14},\n",
        "    },\n",
        "  }\n",
        "\n",
        "  fig = {'data': data, 'layout': my_layout}\n",
        "  return fig\n",
        "\n",
        "\n",
        "\n",
        "url = uris\n",
        "headers = {\"Authorization\": f\"Bearer {access_token}\"}\n",
        "\n",
        "response = requests.get(url, headers=headers)\n",
        "response_dict = response.json()\n",
        "\n",
        "print(response.status_code)\n",
        "\n",
        "albums_dict = response_dict['albums']\n",
        "\n",
        "fig = plot_album_popularity(albums_dict)\n",
        "\n",
        "fig_art = plot_artist_info(artist_info)\n",
        "\n",
        "plot = go.Figure(fig)\n",
        "plot_art = go.Figure(fig_art)\n",
        "\n",
        "# Plot the graph in the terminal and create an html file of it\n",
        "offline.plot(fig, filename=\"popularity_of_mariah.html\")\n",
        "plot.show()\n",
        "plot_art.show()\n"
      ]
    }
  ]
}